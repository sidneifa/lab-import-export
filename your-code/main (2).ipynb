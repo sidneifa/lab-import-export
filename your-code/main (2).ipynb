{
  "nbformat": 4,
  "nbformat_minor": 0,
  "metadata": {
    "kernelspec": {
      "display_name": "Python 3",
      "language": "python",
      "name": "python3"
    },
    "language_info": {
      "codemirror_mode": {
        "name": "ipython",
        "version": 3
      },
      "file_extension": ".py",
      "mimetype": "text/x-python",
      "name": "python",
      "nbconvert_exporter": "python",
      "pygments_lexer": "ipython3",
      "version": "3.7.6"
    },
    "colab": {
      "name": "main.ipynb",
      "provenance": []
    }
  },
  "cells": [
    {
      "cell_type": "markdown",
      "metadata": {
        "id": "syl1670M2vuS"
      },
      "source": [
        "# Import and Export Files \n",
        "\n"
      ]
    },
    {
      "cell_type": "markdown",
      "metadata": {
        "id": "cp0fUNhI2vuX"
      },
      "source": [
        "# Challenge 0 - Accessing our database\n",
        "Create a connection to access the sakila database with the ip, user and password provided in class. Take a look at the data. Do some joins in order to have more elaborated tables in a dataframe (you can try first the query in the DBMS and then use it in your notebook)."
      ]
    },
    {
      "cell_type": "code",
      "metadata": {
        "id": "wiQjJGv441wU"
      },
      "source": [
        "import mysql.connector\n",
        "\n"
      ],
      "execution_count": null,
      "outputs": []
    },
    {
      "cell_type": "code",
      "metadata": {
        "id": "rJNGYu_s2vuY"
      },
      "source": [
        "# your code here\n",
        "mydb = mysql.connector.connect(\n",
        "  host=\"127.0.0.1\",\n",
        "  user=\"sidnei\",\n",
        "  password=\"andrade2305\",\n",
        "    database = 'sakila'\n",
        "    \n",
        ")\n",
        "cursor = mydb.cursor()\n"
      ],
      "execution_count": null,
      "outputs": []
    },
    {
      "cell_type": "markdown",
      "metadata": {
        "id": "gt-duzTF2vua"
      },
      "source": [
        "# Challenge 1 - Working with JSON files\n",
        "Import the pandas library."
      ]
    },
    {
      "cell_type": "code",
      "metadata": {
        "id": "eAwMCLkz2vua"
      },
      "source": [
        "# your code here\n",
        "import pandas as pd\n"
      ],
      "execution_count": null,
      "outputs": []
    },
    {
      "cell_type": "markdown",
      "metadata": {
        "id": "7BwAxTLe2vua"
      },
      "source": [
        "In the next cell, load the data in nasa.json in the data folder and load it into a pandas dataframe. Name the dataframe nasa."
      ]
    },
    {
      "cell_type": "code",
      "metadata": {
        "id": "E0Cuicmj2vub"
      },
      "source": [
        "# your code here\n",
        "nasa = pd.read_json('nasa.json')"
      ],
      "execution_count": null,
      "outputs": []
    },
    {
      "cell_type": "markdown",
      "metadata": {
        "id": "UtcBH-ek2vuc"
      },
      "source": [
        "Now that we have loaded the data, let's examine it using the head() function."
      ]
    },
    {
      "cell_type": "code",
      "metadata": {
        "id": "s0xv8Q902vuc",
        "colab": {
          "base_uri": "https://localhost:8080/",
          "height": 204
        },
        "outputId": "6f9cea54-da2d-4785-be87-719e421e53b5"
      },
      "source": [
        "# your code here\n",
        "nasa.head()\n"
      ],
      "execution_count": null,
      "outputs": [
        {
          "output_type": "execute_result",
          "data": {
            "text/html": [
              "<div>\n",
              "<style scoped>\n",
              "    .dataframe tbody tr th:only-of-type {\n",
              "        vertical-align: middle;\n",
              "    }\n",
              "\n",
              "    .dataframe tbody tr th {\n",
              "        vertical-align: top;\n",
              "    }\n",
              "\n",
              "    .dataframe thead th {\n",
              "        text-align: right;\n",
              "    }\n",
              "</style>\n",
              "<table border=\"1\" class=\"dataframe\">\n",
              "  <thead>\n",
              "    <tr style=\"text-align: right;\">\n",
              "      <th></th>\n",
              "      <th>:@computed_region_cbhk_fwbd</th>\n",
              "      <th>:@computed_region_nnqa_25f4</th>\n",
              "      <th>fall</th>\n",
              "      <th>geolocation</th>\n",
              "      <th>id</th>\n",
              "      <th>mass</th>\n",
              "      <th>name</th>\n",
              "      <th>nametype</th>\n",
              "      <th>recclass</th>\n",
              "      <th>reclat</th>\n",
              "      <th>reclong</th>\n",
              "      <th>year</th>\n",
              "    </tr>\n",
              "  </thead>\n",
              "  <tbody>\n",
              "    <tr>\n",
              "      <th>0</th>\n",
              "      <td>NaN</td>\n",
              "      <td>NaN</td>\n",
              "      <td>Fell</td>\n",
              "      <td>{'type': 'Point', 'coordinates': [6.08333, 50....</td>\n",
              "      <td>1</td>\n",
              "      <td>21.0</td>\n",
              "      <td>Aachen</td>\n",
              "      <td>Valid</td>\n",
              "      <td>L5</td>\n",
              "      <td>50.77500</td>\n",
              "      <td>6.08333</td>\n",
              "      <td>1880-01-01T00:00:00.000</td>\n",
              "    </tr>\n",
              "    <tr>\n",
              "      <th>1</th>\n",
              "      <td>NaN</td>\n",
              "      <td>NaN</td>\n",
              "      <td>Fell</td>\n",
              "      <td>{'type': 'Point', 'coordinates': [10.23333, 56...</td>\n",
              "      <td>2</td>\n",
              "      <td>720.0</td>\n",
              "      <td>Aarhus</td>\n",
              "      <td>Valid</td>\n",
              "      <td>H6</td>\n",
              "      <td>56.18333</td>\n",
              "      <td>10.23333</td>\n",
              "      <td>1951-01-01T00:00:00.000</td>\n",
              "    </tr>\n",
              "    <tr>\n",
              "      <th>2</th>\n",
              "      <td>NaN</td>\n",
              "      <td>NaN</td>\n",
              "      <td>Fell</td>\n",
              "      <td>{'type': 'Point', 'coordinates': [-113, 54.216...</td>\n",
              "      <td>6</td>\n",
              "      <td>107000.0</td>\n",
              "      <td>Abee</td>\n",
              "      <td>Valid</td>\n",
              "      <td>EH4</td>\n",
              "      <td>54.21667</td>\n",
              "      <td>-113.00000</td>\n",
              "      <td>1952-01-01T00:00:00.000</td>\n",
              "    </tr>\n",
              "    <tr>\n",
              "      <th>3</th>\n",
              "      <td>NaN</td>\n",
              "      <td>NaN</td>\n",
              "      <td>Fell</td>\n",
              "      <td>{'type': 'Point', 'coordinates': [-99.9, 16.88...</td>\n",
              "      <td>10</td>\n",
              "      <td>1914.0</td>\n",
              "      <td>Acapulco</td>\n",
              "      <td>Valid</td>\n",
              "      <td>Acapulcoite</td>\n",
              "      <td>16.88333</td>\n",
              "      <td>-99.90000</td>\n",
              "      <td>1976-01-01T00:00:00.000</td>\n",
              "    </tr>\n",
              "    <tr>\n",
              "      <th>4</th>\n",
              "      <td>NaN</td>\n",
              "      <td>NaN</td>\n",
              "      <td>Fell</td>\n",
              "      <td>{'type': 'Point', 'coordinates': [-64.95, -33....</td>\n",
              "      <td>370</td>\n",
              "      <td>780.0</td>\n",
              "      <td>Achiras</td>\n",
              "      <td>Valid</td>\n",
              "      <td>L6</td>\n",
              "      <td>-33.16667</td>\n",
              "      <td>-64.95000</td>\n",
              "      <td>1902-01-01T00:00:00.000</td>\n",
              "    </tr>\n",
              "  </tbody>\n",
              "</table>\n",
              "</div>"
            ],
            "text/plain": [
              "   :@computed_region_cbhk_fwbd  ...                     year\n",
              "0                          NaN  ...  1880-01-01T00:00:00.000\n",
              "1                          NaN  ...  1951-01-01T00:00:00.000\n",
              "2                          NaN  ...  1952-01-01T00:00:00.000\n",
              "3                          NaN  ...  1976-01-01T00:00:00.000\n",
              "4                          NaN  ...  1902-01-01T00:00:00.000\n",
              "\n",
              "[5 rows x 12 columns]"
            ]
          },
          "metadata": {},
          "execution_count": 13
        }
      ]
    },
    {
      "cell_type": "markdown",
      "metadata": {
        "id": "Oo-2P7rC2vud"
      },
      "source": [
        "####  The value_counts() function is commonly used in pandas to find the frequency of every value in a column.\n",
        "\n",
        "In the cell below, use the value_counts() function to determine the frequency of all types of asteroid landings by applying the function to the fall column."
      ]
    },
    {
      "cell_type": "code",
      "metadata": {
        "id": "wOmwMYRJ2vue",
        "colab": {
          "base_uri": "https://localhost:8080/"
        },
        "outputId": "5d134a2b-56a2-4cf5-c3d0-8a7ba835080b"
      },
      "source": [
        "# your code here\n",
        "nasa.value_counts('fall')"
      ],
      "execution_count": null,
      "outputs": [
        {
          "output_type": "execute_result",
          "data": {
            "text/plain": [
              "fall\n",
              "Fell     996\n",
              "Found      4\n",
              "dtype: int64"
            ]
          },
          "metadata": {},
          "execution_count": 14
        }
      ]
    },
    {
      "cell_type": "markdown",
      "metadata": {
        "id": "fGriV30D2vue"
      },
      "source": [
        "Finally, let's save the dataframe as a json file again. Save the dataframe using the orient=records argument and name the file nasa-output.json. Remember to save the file inside the data folder."
      ]
    },
    {
      "cell_type": "code",
      "metadata": {
        "id": "ZniXeRgf2vuf"
      },
      "source": [
        "# your code here\n",
        "nasa.to_json('nasa-output.json',orient='records')"
      ],
      "execution_count": null,
      "outputs": []
    },
    {
      "cell_type": "markdown",
      "metadata": {
        "id": "aE2PbqmJ2vuf"
      },
      "source": [
        "# Challenge 2 - Working with CSV and Other Separated Files\n",
        "\n",
        "Import the pandas library\n",
        "\n",
        "csv files are more commonly used as dataframes. In the cell below, load the file from the URL provided using the `read_csv()` function in pandas. Starting version 0.19 of pandas, you can load a csv file into a dataframe directly from a URL without having to load the file first like we did with the JSON URL. The dataset we will be using contains informtaions about NASA shuttles. \n",
        "\n",
        "In the cell below, we define the column names and the URL of the data. Following this cell, read the tst file to a variable called `shuttle`. Since the file does not contain the column names, you must add them yourself using the column names declared in `cols` using the `names` argument. Additionally, a tst file is space separated, make sure you pass ` sep=' '` to the function."
      ]
    },
    {
      "cell_type": "code",
      "metadata": {
        "id": "qxnXynVh2vuf"
      },
      "source": [
        "#Your pandas import here\n",
        "import pandas as pd"
      ],
      "execution_count": null,
      "outputs": []
    },
    {
      "cell_type": "code",
      "metadata": {
        "id": "GPx0acGe2vug"
      },
      "source": [
        "# Run this code:\n",
        "\n",
        "cols = ['time', 'rad_flow', 'fpv_close', 'fpv_open', 'high', 'bypass', 'bpv_close', 'bpv_open', 'class']\n",
        "tst_url = 'https://archive.ics.uci.edu/ml/machine-learning-databases/statlog/shuttle/shuttle.tst'"
      ],
      "execution_count": null,
      "outputs": []
    },
    {
      "cell_type": "code",
      "metadata": {
        "id": "OAqM-YCg2vug"
      },
      "source": [
        "# Your code here:\n",
        "shuttle = pd.read_csv(tst_url,sep='\\t',names=cols )\n"
      ],
      "execution_count": null,
      "outputs": []
    },
    {
      "cell_type": "markdown",
      "metadata": {
        "id": "s67eFLY32vug"
      },
      "source": [
        "Let's verify that this worked by looking at the `head()` function."
      ]
    },
    {
      "cell_type": "code",
      "metadata": {
        "id": "-cLjMVwt2vuh",
        "colab": {
          "base_uri": "https://localhost:8080/",
          "height": 204
        },
        "outputId": "56f0536a-e77a-4804-ae01-fff8adc1e142"
      },
      "source": [
        "# Your code here:\n",
        "shuttle.head()\n",
        "\n"
      ],
      "execution_count": null,
      "outputs": [
        {
          "output_type": "execute_result",
          "data": {
            "text/html": [
              "<div>\n",
              "<style scoped>\n",
              "    .dataframe tbody tr th:only-of-type {\n",
              "        vertical-align: middle;\n",
              "    }\n",
              "\n",
              "    .dataframe tbody tr th {\n",
              "        vertical-align: top;\n",
              "    }\n",
              "\n",
              "    .dataframe thead th {\n",
              "        text-align: right;\n",
              "    }\n",
              "</style>\n",
              "<table border=\"1\" class=\"dataframe\">\n",
              "  <thead>\n",
              "    <tr style=\"text-align: right;\">\n",
              "      <th></th>\n",
              "      <th>time</th>\n",
              "      <th>rad_flow</th>\n",
              "      <th>fpv_close</th>\n",
              "      <th>fpv_open</th>\n",
              "      <th>high</th>\n",
              "      <th>bypass</th>\n",
              "      <th>bpv_close</th>\n",
              "      <th>bpv_open</th>\n",
              "      <th>class</th>\n",
              "    </tr>\n",
              "  </thead>\n",
              "  <tbody>\n",
              "    <tr>\n",
              "      <th>0</th>\n",
              "      <td>55 0 81 0 -6 11 25 88 64 4</td>\n",
              "      <td>NaN</td>\n",
              "      <td>NaN</td>\n",
              "      <td>NaN</td>\n",
              "      <td>NaN</td>\n",
              "      <td>NaN</td>\n",
              "      <td>NaN</td>\n",
              "      <td>NaN</td>\n",
              "      <td>NaN</td>\n",
              "    </tr>\n",
              "    <tr>\n",
              "      <th>1</th>\n",
              "      <td>56 0 96 0 52 -4 40 44 4 4</td>\n",
              "      <td>NaN</td>\n",
              "      <td>NaN</td>\n",
              "      <td>NaN</td>\n",
              "      <td>NaN</td>\n",
              "      <td>NaN</td>\n",
              "      <td>NaN</td>\n",
              "      <td>NaN</td>\n",
              "      <td>NaN</td>\n",
              "    </tr>\n",
              "    <tr>\n",
              "      <th>2</th>\n",
              "      <td>50 -1 89 -7 50 0 39 40 2 1</td>\n",
              "      <td>NaN</td>\n",
              "      <td>NaN</td>\n",
              "      <td>NaN</td>\n",
              "      <td>NaN</td>\n",
              "      <td>NaN</td>\n",
              "      <td>NaN</td>\n",
              "      <td>NaN</td>\n",
              "      <td>NaN</td>\n",
              "    </tr>\n",
              "    <tr>\n",
              "      <th>3</th>\n",
              "      <td>53 9 79 0 42 -2 25 37 12 4</td>\n",
              "      <td>NaN</td>\n",
              "      <td>NaN</td>\n",
              "      <td>NaN</td>\n",
              "      <td>NaN</td>\n",
              "      <td>NaN</td>\n",
              "      <td>NaN</td>\n",
              "      <td>NaN</td>\n",
              "      <td>NaN</td>\n",
              "    </tr>\n",
              "    <tr>\n",
              "      <th>4</th>\n",
              "      <td>55 2 82 0 54 -6 26 28 2 1</td>\n",
              "      <td>NaN</td>\n",
              "      <td>NaN</td>\n",
              "      <td>NaN</td>\n",
              "      <td>NaN</td>\n",
              "      <td>NaN</td>\n",
              "      <td>NaN</td>\n",
              "      <td>NaN</td>\n",
              "      <td>NaN</td>\n",
              "    </tr>\n",
              "  </tbody>\n",
              "</table>\n",
              "</div>"
            ],
            "text/plain": [
              "                         time  rad_flow  fpv_close  ...  bpv_close  bpv_open  class\n",
              "0  55 0 81 0 -6 11 25 88 64 4       NaN        NaN  ...        NaN       NaN    NaN\n",
              "1   56 0 96 0 52 -4 40 44 4 4       NaN        NaN  ...        NaN       NaN    NaN\n",
              "2  50 -1 89 -7 50 0 39 40 2 1       NaN        NaN  ...        NaN       NaN    NaN\n",
              "3  53 9 79 0 42 -2 25 37 12 4       NaN        NaN  ...        NaN       NaN    NaN\n",
              "4   55 2 82 0 54 -6 26 28 2 1       NaN        NaN  ...        NaN       NaN    NaN\n",
              "\n",
              "[5 rows x 9 columns]"
            ]
          },
          "metadata": {},
          "execution_count": 38
        }
      ]
    },
    {
      "cell_type": "markdown",
      "metadata": {
        "id": "savBqL_e2vuh"
      },
      "source": [
        "To make life easier for us, let's turn this dataframe into a comma separated file by saving it using the `to_csv()` function. Save `shuttle` into the file `shuttle.csv` and ensure the file is comma separated and that we are not saving the index column."
      ]
    },
    {
      "cell_type": "code",
      "metadata": {
        "id": "WstiVkjW2vui"
      },
      "source": [
        "# Your code here:\n",
        "shuttle.to_csv('shuttle.csv',index=False)\n"
      ],
      "execution_count": null,
      "outputs": []
    },
    {
      "cell_type": "markdown",
      "metadata": {
        "id": "o94uJURe2vui"
      },
      "source": [
        "# Challenge 3 - Working with Excel Files\n",
        "\n",
        "We can also use pandas to convert excel spreadsheets to dataframes. Let's use the `read_excel()` function. In this case, `astronauts.xls` is in the same folder that contains this notebook. Read this file into a variable called `astronaut`. \n",
        "\n",
        "Note: Make sure to install the `xlrd` library if it is not yet installed."
      ]
    },
    {
      "cell_type": "code",
      "metadata": {
        "id": "mP3Nu0d-2vui"
      },
      "source": [
        "# Your code here:\n",
        "\n",
        "astronaut = pd.read_excel('astronauts.xls')"
      ],
      "execution_count": null,
      "outputs": []
    },
    {
      "cell_type": "markdown",
      "metadata": {
        "id": "Hn-FPTf12vuj"
      },
      "source": [
        "Use the `head()` function to inspect the dataframe."
      ]
    },
    {
      "cell_type": "code",
      "metadata": {
        "id": "Ybjqqslq2vuj",
        "colab": {
          "base_uri": "https://localhost:8080/",
          "height": 493
        },
        "outputId": "aa9c8581-ceee-4f87-d46d-535de7e98af0"
      },
      "source": [
        "# Your code here:\n",
        "astronaut.head()\n"
      ],
      "execution_count": null,
      "outputs": [
        {
          "output_type": "execute_result",
          "data": {
            "text/html": [
              "<div>\n",
              "<style scoped>\n",
              "    .dataframe tbody tr th:only-of-type {\n",
              "        vertical-align: middle;\n",
              "    }\n",
              "\n",
              "    .dataframe tbody tr th {\n",
              "        vertical-align: top;\n",
              "    }\n",
              "\n",
              "    .dataframe thead th {\n",
              "        text-align: right;\n",
              "    }\n",
              "</style>\n",
              "<table border=\"1\" class=\"dataframe\">\n",
              "  <thead>\n",
              "    <tr style=\"text-align: right;\">\n",
              "      <th></th>\n",
              "      <th>Name</th>\n",
              "      <th>Year</th>\n",
              "      <th>Group</th>\n",
              "      <th>Status</th>\n",
              "      <th>Birth Date</th>\n",
              "      <th>Birth Place</th>\n",
              "      <th>Gender</th>\n",
              "      <th>Alma Mater</th>\n",
              "      <th>Undergraduate Major</th>\n",
              "      <th>Graduate Major</th>\n",
              "      <th>Military Rank</th>\n",
              "      <th>Military Branch</th>\n",
              "      <th>Space Flights</th>\n",
              "      <th>Space Flight (hr)</th>\n",
              "      <th>Space Walks</th>\n",
              "      <th>Space Walks (hr)</th>\n",
              "      <th>Missions</th>\n",
              "      <th>Death Date</th>\n",
              "      <th>Death Mission</th>\n",
              "    </tr>\n",
              "  </thead>\n",
              "  <tbody>\n",
              "    <tr>\n",
              "      <th>0</th>\n",
              "      <td>Joseph M. Acaba</td>\n",
              "      <td>2004.0</td>\n",
              "      <td>19.0</td>\n",
              "      <td>Active</td>\n",
              "      <td>1967-05-17</td>\n",
              "      <td>Inglewood, CA</td>\n",
              "      <td>Male</td>\n",
              "      <td>University of California-Santa Barbara; Univer...</td>\n",
              "      <td>Geology</td>\n",
              "      <td>Geology</td>\n",
              "      <td>NaN</td>\n",
              "      <td>NaN</td>\n",
              "      <td>2</td>\n",
              "      <td>3307</td>\n",
              "      <td>2</td>\n",
              "      <td>13.0</td>\n",
              "      <td>STS-119 (Discovery), ISS-31/32 (Soyuz)</td>\n",
              "      <td>NaT</td>\n",
              "      <td>NaN</td>\n",
              "    </tr>\n",
              "    <tr>\n",
              "      <th>1</th>\n",
              "      <td>Loren W. Acton</td>\n",
              "      <td>NaN</td>\n",
              "      <td>NaN</td>\n",
              "      <td>Retired</td>\n",
              "      <td>1936-03-07</td>\n",
              "      <td>Lewiston, MT</td>\n",
              "      <td>Male</td>\n",
              "      <td>Montana State University; University of Colorado</td>\n",
              "      <td>Engineering Physics</td>\n",
              "      <td>Solar Physics</td>\n",
              "      <td>NaN</td>\n",
              "      <td>NaN</td>\n",
              "      <td>1</td>\n",
              "      <td>190</td>\n",
              "      <td>0</td>\n",
              "      <td>0.0</td>\n",
              "      <td>STS 51-F (Challenger)</td>\n",
              "      <td>NaT</td>\n",
              "      <td>NaN</td>\n",
              "    </tr>\n",
              "    <tr>\n",
              "      <th>2</th>\n",
              "      <td>James C. Adamson</td>\n",
              "      <td>1984.0</td>\n",
              "      <td>10.0</td>\n",
              "      <td>Retired</td>\n",
              "      <td>1946-03-03</td>\n",
              "      <td>Warsaw, NY</td>\n",
              "      <td>Male</td>\n",
              "      <td>US Military Academy; Princeton University</td>\n",
              "      <td>Engineering</td>\n",
              "      <td>Aerospace Engineering</td>\n",
              "      <td>Colonel</td>\n",
              "      <td>US Army (Retired)</td>\n",
              "      <td>2</td>\n",
              "      <td>334</td>\n",
              "      <td>0</td>\n",
              "      <td>0.0</td>\n",
              "      <td>STS-28 (Columbia), STS-43 (Atlantis)</td>\n",
              "      <td>NaT</td>\n",
              "      <td>NaN</td>\n",
              "    </tr>\n",
              "    <tr>\n",
              "      <th>3</th>\n",
              "      <td>Thomas D. Akers</td>\n",
              "      <td>1987.0</td>\n",
              "      <td>12.0</td>\n",
              "      <td>Retired</td>\n",
              "      <td>1951-05-20</td>\n",
              "      <td>St. Louis, MO</td>\n",
              "      <td>Male</td>\n",
              "      <td>University of Missouri-Rolla</td>\n",
              "      <td>Applied Mathematics</td>\n",
              "      <td>Applied Mathematics</td>\n",
              "      <td>Colonel</td>\n",
              "      <td>US Air Force (Retired)</td>\n",
              "      <td>4</td>\n",
              "      <td>814</td>\n",
              "      <td>4</td>\n",
              "      <td>29.0</td>\n",
              "      <td>STS-41 (Discovery), STS-49 (Endeavor), STS-61 ...</td>\n",
              "      <td>NaT</td>\n",
              "      <td>NaN</td>\n",
              "    </tr>\n",
              "    <tr>\n",
              "      <th>4</th>\n",
              "      <td>Buzz Aldrin</td>\n",
              "      <td>1963.0</td>\n",
              "      <td>3.0</td>\n",
              "      <td>Retired</td>\n",
              "      <td>1930-01-20</td>\n",
              "      <td>Montclair, NJ</td>\n",
              "      <td>Male</td>\n",
              "      <td>US Military Academy; MIT</td>\n",
              "      <td>Mechanical Engineering</td>\n",
              "      <td>Astronautics</td>\n",
              "      <td>Colonel</td>\n",
              "      <td>US Air Force (Retired)</td>\n",
              "      <td>2</td>\n",
              "      <td>289</td>\n",
              "      <td>2</td>\n",
              "      <td>8.0</td>\n",
              "      <td>Gemini 12, Apollo 11</td>\n",
              "      <td>NaT</td>\n",
              "      <td>NaN</td>\n",
              "    </tr>\n",
              "  </tbody>\n",
              "</table>\n",
              "</div>"
            ],
            "text/plain": [
              "               Name    Year  ...  Death Date Death Mission\n",
              "0   Joseph M. Acaba  2004.0  ...         NaT           NaN\n",
              "1    Loren W. Acton     NaN  ...         NaT           NaN\n",
              "2  James C. Adamson  1984.0  ...         NaT           NaN\n",
              "3   Thomas D. Akers  1987.0  ...         NaT           NaN\n",
              "4       Buzz Aldrin  1963.0  ...         NaT           NaN\n",
              "\n",
              "[5 rows x 19 columns]"
            ]
          },
          "metadata": {},
          "execution_count": 41
        }
      ]
    },
    {
      "cell_type": "markdown",
      "metadata": {
        "id": "ol-fe_DN2vuj"
      },
      "source": [
        "Use the `value_counts()` function to find the most popular undergraduate major among all astronauts."
      ]
    },
    {
      "cell_type": "code",
      "metadata": {
        "id": "VdpKK8Tt2vuj",
        "colab": {
          "base_uri": "https://localhost:8080/"
        },
        "outputId": "12b14e60-fb44-405f-f049-38a9c3ddfccf"
      },
      "source": [
        "# Your code here:\n",
        "astronaut.value_counts('Undergraduate Major')\n"
      ],
      "execution_count": null,
      "outputs": [
        {
          "output_type": "execute_result",
          "data": {
            "text/plain": [
              "Undergraduate Major\n",
              "Physics                           35\n",
              "Aerospace Engineering             33\n",
              "Mechanical Engineering            30\n",
              "Aeronautical Engineering          28\n",
              "Electrical Engineering            23\n",
              "                                  ..\n",
              "Earth Sciences                     1\n",
              "Earth & Planetary Science          1\n",
              "Music                              1\n",
              "Computer & Systems Engineering     1\n",
              "Accounting                         1\n",
              "Length: 83, dtype: int64"
            ]
          },
          "metadata": {},
          "execution_count": 44
        }
      ]
    },
    {
      "cell_type": "markdown",
      "metadata": {
        "id": "lOW1ZNYL2vuj"
      },
      "source": [
        "Due to all the commas present in the cells of this file, let's save it as a tab separated csv file. In the cell below, save `astronaut` as a tab separated file using the `to_csv` function. Call the file `astronaut.csv` and remember to remove the index column."
      ]
    },
    {
      "cell_type": "markdown",
      "metadata": {
        "id": "bkpDtbrnHKiE"
      },
      "source": [
        ""
      ]
    },
    {
      "cell_type": "code",
      "metadata": {
        "id": "C-LKYj7W2vuk"
      },
      "source": [
        "# Your code here:\n",
        "astronaut.to_csv('astronaut1.csv', sep='\\t',index=False)\n"
      ],
      "execution_count": null,
      "outputs": []
    },
    {
      "cell_type": "markdown",
      "metadata": {
        "id": "McL0VGEP2vuk"
      },
      "source": [
        "# Bonus Challenge - Fertility Dataset\n",
        "\n",
        "Visit the following [URL](https://archive.ics.uci.edu/ml/datasets/Fertility) and retrieve the dataset as well as the column headers. Determine the correct separator and read the file into a variable called `fertility`. Examine the dataframe using the `head()` function."
      ]
    },
    {
      "cell_type": "code",
      "metadata": {
        "id": "t1nRttkk2vuk"
      },
      "source": [
        "# Your code here:\n",
        "\n"
      ],
      "execution_count": null,
      "outputs": []
    }
  ]
}